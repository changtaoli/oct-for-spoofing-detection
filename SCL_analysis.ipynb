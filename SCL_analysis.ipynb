{
 "cells": [
  {
   "cell_type": "code",
   "execution_count": 9,
   "metadata": {},
   "outputs": [],
   "source": [
    "#This is the notebook we use to generate the Fig.1 in our paper, this notebook is inspired by \n",
    "#https://keras.io/examples/vision/supervised-contrastive-learning/#1-supervised-contrastive-learning-loss-function\n",
    "#to run this notebook, you need install tensorflow, tensorflow_addons as well as sklearn\n",
    "import os \n",
    "from pathlib import Path\n",
    "import random\n",
    "\n",
    "import tensorflow as tf \n",
    "import tensorflow_addons as tfa\n",
    "from tensorflow import keras \n",
    "\n",
    "import numpy as np \n",
    "import matplotlib.pyplot as plt \n",
    "from sklearn.decomposition import PCA\n",
    "\n",
    "import os \n",
    "%matplotlib inline\n",
    "\n",
    "#We assume the Feature dict to have this structure\n",
    "#  Feature/\n",
    "#    |- Train\n",
    "#       |- Genuine\n",
    "#           /- LA_T_3100997.npz (This is the LFCC feature of the utterance LA_T_3100997.flac extracted by the baseline program of ASVspoof 2019 LA)\n",
    "#           /- ...\n",
    "#  \t    |- Spoof\n",
    "#           /- LA_T_3756331.npz\n",
    "#           /- ...\n",
    "#    |- Val\n",
    "#       |- Genuine\n",
    "#           /- ...\n",
    "#  \t    |- Spoof\n",
    "#           /- ...\n",
    "#    |- Test\n",
    "#       |- Genuine\n",
    "#           /- ...\n",
    "#  \t    |- Spoof\n",
    "#           /- ..."
   ]
  },
  {
   "cell_type": "code",
   "execution_count": 10,
   "metadata": {},
   "outputs": [],
   "source": [
    "base_path='/data/Feature/Train'\n",
    "protocol_file='/data/ASVspoof2019.LA.cm.train.trn.txt'\n",
    "genuine_file_path=os.path.join(base_path, 'Genuine')\n",
    "spoof_file_path=os.path.join(base_path, 'Spoof')\n",
    "with open(protocol_file) as f:\n",
    "    infos=f.readlines()\n",
    "mapping={info.split(' ')[1]:info.replace('\\n', '').split(' ') for info in infos}\n",
    "way_mapping={\n",
    "    'A01':1, \n",
    "    'A01':2, \n",
    "    'A03':3, \n",
    "    'A04':4, \n",
    "    'A05':5, \n",
    "    'A06':6, \n",
    "    'A07':7, \n",
    "    'A08':8, \n",
    "    'A09':9, \n",
    "    'A10':10, \n",
    "    'A11':11, \n",
    "    'A12':12, \n",
    "    'A13':13, \n",
    "    'A14':14, \n",
    "    'A15':15, \n",
    "    'A16':16, \n",
    "    'A17':17, \n",
    "}\n",
    "genuine_file_path=list(Path(genuine_file_path).glob('*.npz'))\n",
    "spoof_file_path=list(Path(spoof_file_path).glob('*.npz'))"
   ]
  },
  {
   "cell_type": "code",
   "execution_count": 11,
   "metadata": {},
   "outputs": [],
   "source": [
    "counter_spoof_file=random.sample(list(spoof_file_path), k=len(list(genuine_file_path)))\n",
    "#choose the same number of LFCC features of spoofed utterances as that of genuine utterances to make a balanced dataset "
   ]
  },
  {
   "cell_type": "code",
   "execution_count": 12,
   "metadata": {},
   "outputs": [
    {
     "data": {
      "text/plain": [
       "67"
      ]
     },
     "execution_count": 12,
     "metadata": {},
     "output_type": "execute_result"
    }
   ],
   "source": [
    "#to read .npz file into memory and find the shortest length of the LFCC features in our selected features\n",
    "spoof_list=[]\n",
    "for i in counter_spoof_file:\n",
    "    name=i.name.replace('.npz', '')\n",
    "    feature=np.load(i)['arr_0']\n",
    "    bundle=(name, feature)\n",
    "    spoof_list.append(bundle)\n",
    "\n",
    "genuine_list=[]\n",
    "for i in list(genuine_file_path):\n",
    "    name=i.name.replace('.npz', '')\n",
    "    feature=np.load(i)['arr_0']\n",
    "    bundle=(name, feature)\n",
    "    genuine_list.append(bundle)\n",
    "\n",
    "short=512\n",
    "for spoof in spoof_list:\n",
    "    length=spoof[1].shape[0]\n",
    "    if length < short:\n",
    "        short=length\n",
    "for genuine in genuine_list:\n",
    "    length=genuine[1].shape[0]\n",
    "    if length < short:\n",
    "        short=length\n",
    "short"
   ]
  },
  {
   "cell_type": "code",
   "execution_count": 13,
   "metadata": {},
   "outputs": [],
   "source": [
    "#define the SCL, we directly copy this from https://keras.io/examples/vision/supervised-contrastive-learning/#1-supervised-contrastive-learning-loss-function\n",
    "class SupervisedContrastiveLoss(keras.losses.Loss):\n",
    "    def __init__(self, temperature=1, name=None):\n",
    "        super(SupervisedContrastiveLoss, self).__init__(name=name)\n",
    "        self.temperature = temperature\n",
    "\n",
    "    def __call__(self, labels, feature_vectors, sample_weight=None):\n",
    "        # Normalize feature vectors\n",
    "        feature_vectors_normalized = tf.math.l2_normalize(feature_vectors, axis=1)\n",
    "        # Compute logits\n",
    "        logits = tf.divide(\n",
    "            tf.matmul(\n",
    "                feature_vectors_normalized, tf.transpose(feature_vectors_normalized)\n",
    "            ),\n",
    "            self.temperature,\n",
    "        )\n",
    "        return tfa.losses.npairs_loss(tf.squeeze(labels), logits)"
   ]
  },
  {
   "cell_type": "code",
   "execution_count": 14,
   "metadata": {},
   "outputs": [],
   "source": [
    "loss=SupervisedContrastiveLoss(temperature=0.05)"
   ]
  },
  {
   "cell_type": "code",
   "execution_count": 15,
   "metadata": {},
   "outputs": [],
   "source": [
    "#compute SCL of datasets of different length\n",
    "def compute_loss(pca_dim, shortest):\n",
    "    los=[]\n",
    "    for i in range(int(pca_dim/60), shortest+1):\n",
    "        for_plot=[]\n",
    "\n",
    "        for bundle in spoof_list:\n",
    "            name=bundle[0]\n",
    "            feature=bundle[1]\n",
    "            frames=feature.shape[0]\n",
    "            index_start=0\n",
    "            using_feature=feature[index_start:index_start+i, :]\n",
    "            target=1\n",
    "            bundle=(using_feature, target)\n",
    "            for_plot.append(bundle)\n",
    "\n",
    "\n",
    "        for bundle in genuine_list:\n",
    "            name=bundle[0]\n",
    "            feature=bundle[1]\n",
    "            frames=feature.shape[0]\n",
    "            index_start=0\n",
    "            using_feature=feature[index_start:index_start+i, :]\n",
    "            target=0\n",
    "            bundle=(using_feature, target)\n",
    "            for_plot.append(bundle)\n",
    "\n",
    "        a, b=[], []\n",
    "        for j in range(len(for_plot)):\n",
    "            a.append(for_plot[j][0])\n",
    "            b.append(for_plot[j][1])\n",
    "        arr=np.array(a, dtype=np.float32).reshape(5160, -1)\n",
    "        new_a=PCA(n_components=pca_dim).fit_transform(arr)\n",
    "        tensor_a=tf.constant(new_a, dtype=tf.float32)\n",
    "        tenosr_b=tf.constant(b, dtype=tf.float32)\n",
    "        feature=tf.reshape(tensor_a, shape=(5160, -1))\n",
    "        value=loss(tenosr_b, feature).numpy()\n",
    "        los.append(value)\n",
    "    return np.array(los)\n"
   ]
  },
  {
   "cell_type": "code",
   "execution_count": 16,
   "metadata": {},
   "outputs": [],
   "source": [
    "#calculate this loss for many times to avoid possible numerical errors\n",
    "def sampling(pca_dim, shortest, samples=60):\n",
    "    total_loss=np.zeros(shape=(shortest+1-pca_dim//60, ), dtype=np.float32)\n",
    "    for _ in range(samples):\n",
    "        los=compute_loss(pca_dim, shortest)\n",
    "        total_loss+=los\n",
    "    return total_loss/samples\n",
    "\n",
    "# sampling(180, 65, 2).shape"
   ]
  },
  {
   "cell_type": "code",
   "execution_count": 17,
   "metadata": {},
   "outputs": [
    {
     "data": {
      "text/plain": [
       "[<matplotlib.lines.Line2D at 0x7f864111b1d0>]"
      ]
     },
     "execution_count": 17,
     "metadata": {},
     "output_type": "execute_result"
    },
    {
     "data": {
      "image/png": "[encoded data removed]",
      "text/plain": [
       "<Figure size 432x288 with 1 Axes>"
      ]
     },
     "metadata": {
      "needs_background": "light"
     },
     "output_type": "display_data"
    }
   ],
   "source": [
    "#samples=1 for smoke-test\n",
    "a=sampling(60, short, 1)\n",
    "plt.plot(a)\n",
    "# array([21.522217, 21.123184, 20.978636, 20.910416, 20.87409 , 20.855097,\n",
    "#     20.844511, 20.826216, 20.794949, 20.757719, 20.715427, 20.683243,\n",
    "#     20.654678, 20.609268, 20.577244, 20.56762 , 20.559587, 20.554028,\n",
    "#     20.548992, 20.532965, 20.515858, 20.511631, 20.508186, 20.494783,\n",
    "#     20.481657, 20.469555, 20.449566, 20.415064, 20.366112, 20.29015 ,\n",
    "#     20.241735, 20.206081, 20.164122, 20.121264, 20.07475 , 20.026148,\n",
    "#     19.974396, 19.933092, 19.890413, 19.852352, 19.822243, 19.795166,\n",
    "#     19.78155 , 19.775568, 19.77166 , 19.771927, 19.778786, 19.78453 ,\n",
    "#     19.789854, 19.801006, 19.814644, 19.822136, 19.831566, 19.843311,\n",
    "#     19.858652, 19.87511 , 19.885893, 19.894947, 19.902826, 19.908686,\n",
    "#     19.917107, 19.926258, 19.934507, 19.936892, 19.936365],\n",
    "#     dtype=float32)"
   ]
  },
  {
   "cell_type": "code",
   "execution_count": null,
   "metadata": {},
   "outputs": [],
   "source": [
    "b=sampling(120, short, 100)\n",
    "# array([21.097296, 20.928377, 20.817253, 20.744236, 20.700178, 20.673655,\n",
    "#        20.64334 , 20.605518, 20.56773 , 20.527596, 20.494265, 20.462645,\n",
    "#        20.42074 , 20.386883, 20.373096, 20.360886, 20.3515  , 20.34234 ,\n",
    "#        20.32536 , 20.306707, 20.30042 , 20.292835, 20.278442, 20.265417,\n",
    "#        20.250805, 20.229948, 20.193758, 20.144403, 20.067535, 20.016518,\n",
    "#        19.977465, 19.933535, 19.8881  , 19.837147, 19.782572, 19.72631 ,\n",
    "#        19.680334, 19.63247 , 19.589724, 19.555426, 19.523794, 19.502132,\n",
    "#        19.490362, 19.482433, 19.481913, 19.487122, 19.49326 , 19.50129 ,\n",
    "#        19.512474, 19.52678 , 19.536047, 19.548637, 19.563725, 19.581848,\n",
    "#        19.600828, 19.615416, 19.628656, 19.641958, 19.653297, 19.667889,\n",
    "#        19.683592, 19.694887, 19.703693, 19.708015], dtype=float32)"
   ]
  },
  {
   "cell_type": "code",
   "execution_count": null,
   "metadata": {},
   "outputs": [],
   "source": [
    "#we choose 60 here to reduce the computation time\n",
    "sampling(180, short, 60)\n",
    "# array([20.928394, 20.817251, 20.739382, 20.687216, 20.649586, 20.609169,\n",
    "#        20.56354 , 20.519043, 20.474443, 20.438   , 20.404505, 20.361128,\n",
    "#        20.326286, 20.310675, 20.295412, 20.284178, 20.272837, 20.254536,\n",
    "#        20.235962, 20.228611, 20.219383, 20.203674, 20.18978 , 20.174437,\n",
    "#        20.152134, 20.115072, 20.064825, 19.987852, 19.936275, 19.896858,\n",
    "#        19.852089, 19.806501, 19.75445 , 19.699453, 19.643366, 19.59709 ,\n",
    "#        19.54877 , 19.50431 , 19.468105, 19.43395 , 19.408   , 19.392189,\n",
    "#        19.380388, 19.376055, 19.376692, 19.379065, 19.38375 , 19.392857,\n",
    "#        19.40464 , 19.412865, 19.424658, 19.43964 , 19.457191, 19.475262,\n",
    "#        19.490425, 19.504164, 19.51871 , 19.531963, 19.547993, 19.5651  ,\n",
    "#        19.577978, 19.588915, 19.59575 ], dtype=float32)"
   ]
  },
  {
   "cell_type": "code",
   "execution_count": null,
   "metadata": {},
   "outputs": [],
   "source": []
  }
 ],
 "metadata": {
  "interpreter": {
   "hash": "31f2aee4e71d21fbe5cf8b01ff0e069b9275f58929596ceb00d14d90e3e16cd6"
  },
  "kernelspec": {
   "display_name": "Python 3.6.9 64-bit",
   "name": "python3"
  },
  "language_info": {
   "codemirror_mode": {
    "name": "ipython",
    "version": 3
   },
   "file_extension": ".py",
   "mimetype": "text/x-python",
   "name": "python",
   "nbconvert_exporter": "python",
   "pygments_lexer": "ipython3",
   "version": "3.6.9"
  },
  "orig_nbformat": 4
 },
 "nbformat": 4,
 "nbformat_minor": 2
}
