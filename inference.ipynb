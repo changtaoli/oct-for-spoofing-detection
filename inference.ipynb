{
 "cells": [
  {
   "cell_type": "code",
   "execution_count": 1,
   "metadata": {},
   "outputs": [],
   "source": [
    "import numpy as np \n",
    "import torch \n",
    "import torch.nn as nn \n",
    "import torch.nn.functional as F\n",
    "\n",
    "from model import OCT\n",
    "from utils import load_data\n",
    "#We show how to use the pretrained checkpoint for inference in this notebook"
   ]
  },
  {
   "cell_type": "code",
   "execution_count": 2,
   "metadata": {},
   "outputs": [
    {
     "name": "stderr",
     "output_type": "stream",
     "text": [
      "/opt/conda/lib/python3.7/site-packages/torch/nn/functional.py:652: UserWarning: Named tensors and all their associated APIs are an experimental feature and subject to change. Please do not use them for anything important until they are released as stable. (Triggered internally at  /opt/conda/conda-bld/pytorch_1623448265233/work/c10/core/TensorImpl.h:1156.)\n",
      "  return torch.max_pool1d(input, kernel_size, stride, padding, dilation, ceil_mode)\n"
     ]
    }
   ],
   "source": [
    "#load the dataset and the model parameters here \n",
    "model = OCT(frame=512, embedding_dim=128, n_input_channels=60, n_conv_layers=3, kernel_size=3, stride=1, padding=1, pooling_kernel_size=3, pooling_stride=2, pooling_padding=1,\n",
    "            dropout_rate=0.1, attention_dropout=0.1, stochastic_depth=0.1, num_layers=2, num_heads=1, num_classes=2, positional_embedding='learnable', mlp_ratio=1.0)\n",
    "\n",
    "model.load_state_dict(torch.load('/root/ray_results/train_job_2021-11-03_08-50-24/train_job_15d07_00003_3_2021-11-03_08-50-24/checkpoint_000198/checkpoint')[0])\n",
    "model.cuda()\n",
    "\n",
    "_, test_ds=load_data()"
   ]
  },
  {
   "cell_type": "code",
   "execution_count": 3,
   "metadata": {},
   "outputs": [],
   "source": [
    "f=open('new_score.txt', 'w')\n",
    "for lfcc, target, name in test_ds:\n",
    "    # way_loader.append(ways)\n",
    "    lfcc, target=torch.from_numpy(lfcc).to(torch.float32).unsqueeze(dim=0).cuda().transpose(-1, -2), torch.tensor(target).unsqueeze(dim=0).cuda()\n",
    "    with torch.no_grad():\n",
    "        logits, feature=model(lfcc)\n",
    "        score=torch.softmax(logits, dim=-1)[:, 0].item()            \n",
    "    new_line=' '.join(name)+f' {score}\\n'  #just append the score to the end of each line of the protocol file\n",
    "    f.writelines(new_line)\n",
    "    \n",
    "\n",
    "f.close()"
   ]
  },
  {
   "cell_type": "code",
   "execution_count": null,
   "metadata": {},
   "outputs": [],
   "source": []
  }
 ],
 "metadata": {
  "interpreter": {
   "hash": "0f9a2f6c4cbaa463f4f7584a17e7f4d91b13a0458564b98e0a8c1eed63c9df07"
  },
  "kernelspec": {
   "display_name": "Python 3.9.6 64-bit ('torch': conda)",
   "language": "python",
   "name": "python3"
  },
  "language_info": {
   "codemirror_mode": {
    "name": "ipython",
    "version": 3
   },
   "file_extension": ".py",
   "mimetype": "text/x-python",
   "name": "python",
   "nbconvert_exporter": "python",
   "pygments_lexer": "ipython3",
   "version": "3.7.11"
  },
  "orig_nbformat": 4
 },
 "nbformat": 4,
 "nbformat_minor": 2
}
